{
 "cells": [
  {
   "cell_type": "code",
   "execution_count": 16,
   "id": "d78155a5-a9da-4c85-8409-26c815356f36",
   "metadata": {},
   "outputs": [],
   "source": [
    "from aqt.profiles import ProfileManager\n",
    "\n",
    "pm = ProfileManager(ProfileManager._default_base())\n",
    "\n",
    "pm.setupMeta()\n",
    "pm.openProfile('tutorial')\n",
    "pm.collectionPath()\n",
    "\n",
    "from anki.collection import Collection\n",
    "\n",
    "col = Collection(pm.collectionPath())"
   ]
  },
  {
   "cell_type": "code",
   "execution_count": 6,
   "id": "4e7e4709-a689-4f3b-9a9d-1b38880ea5d6",
   "metadata": {},
   "outputs": [],
   "source": [
    "basic_model = col.models.by_name('Basic')"
   ]
  },
  {
   "cell_type": "code",
   "execution_count": 8,
   "id": "6ed66a30-7f9d-4bf9-b3f3-766e44f846c0",
   "metadata": {},
   "outputs": [],
   "source": [
    "default_deck = col.decks.by_name('Default')"
   ]
  },
  {
   "cell_type": "code",
   "execution_count": 10,
   "id": "a75b7329-57ab-4eb3-a1b0-4051d71ea04b",
   "metadata": {},
   "outputs": [],
   "source": [
    "note = col.new_note(basic_model)"
   ]
  },
  {
   "cell_type": "code",
   "execution_count": 11,
   "id": "92a21a33-8d5c-4aa2-af7c-818231294c6d",
   "metadata": {},
   "outputs": [],
   "source": [
    "note['Front'] = 'Hello'\n",
    "note['Back'] = 'Anki'"
   ]
  },
  {
   "cell_type": "code",
   "execution_count": 12,
   "id": "48ed58e6-1bb8-4cee-b0e8-c8987d3743ac",
   "metadata": {},
   "outputs": [
    {
     "data": {
      "text/plain": [
       "card: true\n",
       "note: true\n",
       "config: true\n",
       "mtime: true\n",
       "browser_table: true\n",
       "browser_sidebar: true\n",
       "note_text: true\n",
       "study_queues: true"
      ]
     },
     "execution_count": 12,
     "metadata": {},
     "output_type": "execute_result"
    }
   ],
   "source": [
    "col.add_note(note, default_deck['id'])"
   ]
  },
  {
   "cell_type": "code",
   "execution_count": 17,
   "id": "2b295885-e22e-4536-8e63-2ae28df84eb3",
   "metadata": {},
   "outputs": [],
   "source": [
    "col.close()"
   ]
  },
  {
   "cell_type": "code",
   "execution_count": null,
   "id": "ab8cea7e-dddb-4b11-9655-b57aca41a19c",
   "metadata": {},
   "outputs": [],
   "source": []
  }
 ],
 "metadata": {
  "kernelspec": {
   "display_name": "Python 3 (ipykernel)",
   "language": "python",
   "name": "python3"
  },
  "language_info": {
   "codemirror_mode": {
    "name": "ipython",
    "version": 3
   },
   "file_extension": ".py",
   "mimetype": "text/x-python",
   "name": "python",
   "nbconvert_exporter": "python",
   "pygments_lexer": "ipython3",
   "version": "3.11.6"
  }
 },
 "nbformat": 4,
 "nbformat_minor": 5
}
