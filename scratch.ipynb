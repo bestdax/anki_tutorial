{
 "cells": [
  {
   "cell_type": "code",
   "execution_count": 16,
   "id": "d78155a5-a9da-4c85-8409-26c815356f36",
   "metadata": {},
   "outputs": [],
   "source": [
    "from aqt.profiles import ProfileManager\n",
    "\n",
    "pm = ProfileManager(ProfileManager._default_base())\n",
    "\n",
    "pm.setupMeta()\n",
    "pm.openProfile('tutorial')\n",
    "pm.collectionPath()\n",
    "\n",
    "from anki.collection import Collection\n",
    "\n",
    "col = Collection(pm.collectionPath())"
   ]
  },
  {
   "cell_type": "code",
   "execution_count": 6,
   "id": "4e7e4709-a689-4f3b-9a9d-1b38880ea5d6",
   "metadata": {},
   "outputs": [],
   "source": [
    "basic_model = col.models.by_name('Basic')"
   ]
  },
  {
   "cell_type": "code",
   "execution_count": 8,
   "id": "6ed66a30-7f9d-4bf9-b3f3-766e44f846c0",
   "metadata": {},
   "outputs": [],
   "source": [
    "default_deck = col.decks.by_name('Default')"
   ]
  },
  {
   "cell_type": "code",
   "execution_count": 10,
   "id": "a75b7329-57ab-4eb3-a1b0-4051d71ea04b",
   "metadata": {},
   "outputs": [],
   "source": [
    "note = col.new_note(basic_model)"
   ]
  },
  {
   "cell_type": "code",
   "execution_count": 11,
   "id": "92a21a33-8d5c-4aa2-af7c-818231294c6d",
   "metadata": {},
   "outputs": [],
   "source": [
    "note['Front'] = 'Hello'\n",
    "note['Back'] = 'Anki'"
   ]
  },
  {
   "cell_type": "code",
   "execution_count": 12,
   "id": "48ed58e6-1bb8-4cee-b0e8-c8987d3743ac",
   "metadata": {},
   "outputs": [
    {
     "data": {
      "text/plain": [
       "card: true\n",
       "note: true\n",
       "config: true\n",
       "mtime: true\n",
       "browser_table: true\n",
       "browser_sidebar: true\n",
       "note_text: true\n",
       "study_queues: true"
      ]
     },
     "execution_count": 12,
     "metadata": {},
     "output_type": "execute_result"
    }
   ],
   "source": [
    "col.add_note(note, default_deck['id'])"
   ]
  },
  {
   "cell_type": "code",
   "execution_count": 17,
   "id": "2b295885-e22e-4536-8e63-2ae28df84eb3",
   "metadata": {},
   "outputs": [],
   "source": [
    "col.close()"
   ]
  },
  {
   "cell_type": "code",
   "execution_count": 2,
   "id": "ab8cea7e-dddb-4b11-9655-b57aca41a19c",
   "metadata": {},
   "outputs": [],
   "source": [
    "from mdict_query import IndexBuilder"
   ]
  },
  {
   "cell_type": "code",
   "execution_count": 3,
   "id": "8c337642-6538-4677-b446-c7a3db305e6e",
   "metadata": {},
   "outputs": [],
   "source": [
    "md = IndexBuilder('/Users/dax/Documents/Personal/Dictionary/COCA/COCA Frequency 60000.mdx')"
   ]
  },
  {
   "cell_type": "code",
   "execution_count": 6,
   "id": "75aac337-9754-4088-8523-3961279d8410",
   "metadata": {},
   "outputs": [],
   "source": [
    "from bs4 import BeautifulSoup"
   ]
  },
  {
   "cell_type": "code",
   "execution_count": 9,
   "id": "ab399060-b328-4975-bb94-04ecb624b0f0",
   "metadata": {},
   "outputs": [
    {
     "name": "stdout",
     "output_type": "stream",
     "text": [
      "offset\n"
     ]
    }
   ],
   "source": [
    "all_words = md.get_mdx_keys()\n",
    "word_freq = {}\n",
    "for word in all_words:\n",
    "    result = md.mdx_lookup(word)\n",
    "    if result:\n",
    "        html = result[0]\n",
    "        soup = BeautifulSoup(html, 'html.parser')\n",
    "        tag = soup.find(class_=\"freq\")\n",
    "        freq = int(tag.text)\n",
    "        word_freq[word] = freq\n",
    "    else:\n",
    "        print(word)"
   ]
  },
  {
   "cell_type": "code",
   "execution_count": 11,
   "id": "744e4893-116e-42a2-8d4f-42820007a34d",
   "metadata": {},
   "outputs": [],
   "source": [
    "all_words.sort(key=lambda word : word_freq[word] if word != 'offset' else 3716, reverse=True)"
   ]
  },
  {
   "cell_type": "code",
   "execution_count": 12,
   "id": "cdba9f1a-68a5-4b72-9e12-830581a4e5c7",
   "metadata": {},
   "outputs": [
    {
     "data": {
      "text/plain": [
       "['be',\n",
       " 'the',\n",
       " 'and',\n",
       " 'of',\n",
       " 'to',\n",
       " 'i',\n",
       " 'you',\n",
       " 'it',\n",
       " 'that',\n",
       " 'do',\n",
       " 'we',\n",
       " 'this',\n",
       " 'for',\n",
       " 'he',\n",
       " 'they',\n",
       " 'go',\n",
       " \"n't\",\n",
       " 'with',\n",
       " 'what',\n",
       " 'not',\n",
       " 'think',\n",
       " 'get',\n",
       " 'at',\n",
       " 'from',\n",
       " 'if',\n",
       " 'who',\n",
       " 'or',\n",
       " 'well',\n",
       " 'would',\n",
       " 'she',\n",
       " 'very',\n",
       " 'come',\n",
       " 'make',\n",
       " 'my',\n",
       " 'me',\n",
       " 'see',\n",
       " 'their',\n",
       " 'year',\n",
       " 'them',\n",
       " 'take',\n",
       " 'how',\n",
       " 'our',\n",
       " 'thing',\n",
       " 'us',\n",
       " 'really',\n",
       " 'these',\n",
       " 'him',\n",
       " 'could',\n",
       " 'good',\n",
       " 'then',\n",
       " 'tell',\n",
       " 'which',\n",
       " 'talk',\n",
       " 'back',\n",
       " 'day',\n",
       " 'let',\n",
       " 'those',\n",
       " 'into',\n",
       " 'yes',\n",
       " 'two',\n",
       " 'state',\n",
       " 'give',\n",
       " 'try',\n",
       " 'any',\n",
       " 'also',\n",
       " 'yeah',\n",
       " 'today',\n",
       " 'why',\n",
       " 'something',\n",
       " 'happen',\n",
       " 'one',\n",
       " 'should',\n",
       " 'many',\n",
       " 'call',\n",
       " 'much',\n",
       " 'all',\n",
       " 'work',\n",
       " 'woman',\n",
       " 'country',\n",
       " 'life',\n",
       " 'when',\n",
       " 'last',\n",
       " 'put',\n",
       " 'ask',\n",
       " 'its',\n",
       " 'in',\n",
       " 'need',\n",
       " 'even',\n",
       " 'president',\n",
       " 'thank',\n",
       " 'child',\n",
       " 'still',\n",
       " 'lot',\n",
       " 'week',\n",
       " 'hear',\n",
       " 'big',\n",
       " 'feel',\n",
       " 'world',\n",
       " 'believe',\n",
       " 'her']"
      ]
     },
     "execution_count": 12,
     "metadata": {},
     "output_type": "execute_result"
    }
   ],
   "source": [
    "all_words[:100]"
   ]
  },
  {
   "cell_type": "code",
   "execution_count": 13,
   "id": "c3f7ce50-5db6-4430-bfe9-98fd3fb6ac8e",
   "metadata": {},
   "outputs": [],
   "source": [
    "with open('words.txt', 'w') as f:\n",
    "    f.write('\\n'.join(all_words))"
   ]
  },
  {
   "cell_type": "code",
   "execution_count": null,
   "id": "606e5ac2-38a9-4ae8-9d0d-d170afd31f3a",
   "metadata": {},
   "outputs": [],
   "source": []
  }
 ],
 "metadata": {
  "kernelspec": {
   "display_name": "Python 3 (ipykernel)",
   "language": "python",
   "name": "python3"
  },
  "language_info": {
   "codemirror_mode": {
    "name": "ipython",
    "version": 3
   },
   "file_extension": ".py",
   "mimetype": "text/x-python",
   "name": "python",
   "nbconvert_exporter": "python",
   "pygments_lexer": "ipython3",
   "version": "3.11.7"
  }
 },
 "nbformat": 4,
 "nbformat_minor": 5
}
